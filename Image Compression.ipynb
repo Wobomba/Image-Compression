{
 "cells": [
  {
   "cell_type": "code",
   "execution_count": null,
   "metadata": {},
   "outputs": [],
   "source": [
    "#importing the imread library to load the image,\n",
    "from matplotlib.image import imread\n",
    "import matplotlib.pyplot as plt\n",
    "import numpy as np\n",
    "import os\n",
    "\n",
    "plt.rcParams['figure.figsize'] = [16,8]\n",
    "\n",
    "#loading my cat color jpg image of nxm matrix\n",
    "A = imread('cat.jpg')\n",
    "X = np.mean(A,-1); #conerting the image to gray scale of X matrix\n",
    "\n",
    "#plotting and performing a hard invert on the color otherwise plt.imshow(X) is alright\n",
    "img = plt.imshow(256-X)\n",
    "img.set_cmap('gray')\n",
    "plt.axis('off')\n",
    "plt.show()"
   ]
  },
  {
   "cell_type": "code",
   "execution_count": null,
   "metadata": {},
   "outputs": [],
   "source": [
    "#taking in the data matrix above and factoring it in the matrix approximation of SVD when r = 5, 20, and 100.\n",
    "#setting the full matrices to false to ensure we are using an economy SVD such that the first columns of U values of m and the V transpose values of m are captured.\n",
    "U, S, VT = np.linalg.svd(X,full_matrices=False)\n",
    "S = np.diag(S) #extracting out the single diagonal S values from the diagonal matrix\n",
    "\n",
    "j = 0\n",
    "for r in (5, 20, 100):\n",
    "    #constructing approximate image\n",
    "    Xapprox = U[:,:r] @ S[0:r,:r] @ VT[:r,:] #matrix multiplications\n",
    "    plt.figure(j+1)\n",
    "    j += 1\n",
    "    img = plt.imshow(256-Xapprox)\n",
    "    img.set_cmap('gray')\n",
    "    plt.axis('off')\n",
    "    plt.title('r = '+str(r))\n",
    "    plt.show()"
   ]
  },
  {
   "cell_type": "code",
   "execution_count": null,
   "metadata": {},
   "outputs": [],
   "source": [
    "#plotting the singular values.\n",
    "#from log r of j to j\n",
    "plt.figure(1)\n",
    "plt.semilogy(np.diag(S))\n",
    "plt.title('Singular Values')\n",
    "plt.show()\n",
    "\n",
    "#plotting the cumulative sum of singular values from the sum of all sigma j's from j = 1 to r / sum of all sigma j's from j = 1 to m \n",
    "#offers a better understanding of the starting energy at the first modes.\n",
    "plt.figure(2)\n",
    "plt.plot(np.cumsum(np.diag(S))/np.sum(np.diag(S)))\n",
    "plt.title('Singular Values: Cumulative Sum')\n",
    "plt.show()"
   ]
  }
 ],
 "metadata": {
  "kernelspec": {
   "display_name": "Python 2.7.1 32-bit",
   "language": "python",
   "name": "python3"
  },
  "language_info": {
   "name": "python",
   "version": "2.7.1"
  },
  "orig_nbformat": 4,
  "vscode": {
   "interpreter": {
    "hash": "e450050b432e843bda3c41bf3272c133bfc370a7003f3e377e27f87a49ce1127"
   }
  }
 },
 "nbformat": 4,
 "nbformat_minor": 2
}
